{
 "cells": [
  {
   "cell_type": "code",
   "execution_count": 1,
   "metadata": {},
   "outputs": [],
   "source": [
    "graph = {\n",
    "    'A':['B', 'C'],\n",
    "    'B':['A', 'D', 'E'],\n",
    "    'C':['A', 'F'],\n",
    "    'D':['B'],\n",
    "    'E': ['B', 'F'],\n",
    "    'F': ['C', 'E']\n",
    "}\n"
   ]
  },
  {
   "cell_type": "code",
   "execution_count": 6,
   "metadata": {},
   "outputs": [
    {
     "data": {
      "text/plain": [
       "['A', 'B', 'C', 'D', 'E', 'F']"
      ]
     },
     "execution_count": 6,
     "metadata": {},
     "output_type": "execute_result"
    }
   ],
   "source": [
    "def bfs(graph, start_node):\n",
    "    #keep track of visited node\n",
    "    explored = []\n",
    "    #keep track  nodes to be checked\n",
    "    queue = [start_node]\n",
    "    while queue:\n",
    "        node = queue.pop(0)\n",
    "        if node not in explored:\n",
    "            explored.append(node)\n",
    "            queue.extend(graph[node])\n",
    "    return explored\n",
    "bfs(graph,'A')\n",
    "    \n",
    "    \n",
    "    "
   ]
  },
  {
   "cell_type": "code",
   "execution_count": 7,
   "metadata": {},
   "outputs": [],
   "source": [
    "graph = {\n",
    "    'A':['B', 'C'],\n",
    "    'B':['A', 'D', 'E'],\n",
    "    'C':['A', 'F'],\n",
    "    'D':['B'],\n",
    "    'E': ['B', 'F'],\n",
    "    'F': ['C', 'E']\n",
    "}"
   ]
  },
  {
   "cell_type": "code",
   "execution_count": 14,
   "metadata": {},
   "outputs": [
    {
     "data": {
      "text/plain": [
       "['A', 'C', 'F', 'E', 'B', 'D']"
      ]
     },
     "execution_count": 14,
     "metadata": {},
     "output_type": "execute_result"
    }
   ],
   "source": [
    "def dfs(graph, start_node):\n",
    "    #keep track of visited node\n",
    "    explored = []\n",
    "    #keep track  nodes to be checked\n",
    "    stack = [start_node]\n",
    "    while stack:\n",
    "        node = stack.pop()\n",
    "        if node not in explored:\n",
    "            explored.append(node)\n",
    "            stack.extend(graph[node])\n",
    "    return explored\n",
    "dfs(graph,'A')"
   ]
  },
  {
   "cell_type": "code",
   "execution_count": null,
   "metadata": {},
   "outputs": [],
   "source": []
  }
 ],
 "metadata": {
  "kernelspec": {
   "display_name": "Python 3",
   "language": "python",
   "name": "python3"
  },
  "language_info": {
   "codemirror_mode": {
    "name": "ipython",
    "version": 3
   },
   "file_extension": ".py",
   "mimetype": "text/x-python",
   "name": "python",
   "nbconvert_exporter": "python",
   "pygments_lexer": "ipython3",
   "version": "3.7.0"
  }
 },
 "nbformat": 4,
 "nbformat_minor": 2
}
