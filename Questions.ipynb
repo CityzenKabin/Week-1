{
 "cells": [
  {
   "cell_type": "markdown",
   "metadata": {},
   "source": [
    "# Q. You are given a string and your task is to swap cases. In other words, convert all lowercase letters to uppercase letters and vice versa.\n",
    "\n",
    "input: 'This is mE 123'\n",
    "\n",
    "output: 'tHIS IS Me 123'"
   ]
  },
  {
   "cell_type": "markdown",
   "metadata": {},
   "source": [
    "# Q. The user enters a string and a substring. You have to print the number of times that the substring occurs in the given string. String traversal will take place from left to right, not from right to left.\n",
    "\n",
    "Input: \n",
    "\n",
    "ABCDCDC\n",
    "\n",
    "CDC\n",
    "\n",
    "Output:\n",
    "\n",
    "2"
   ]
  },
  {
   "cell_type": "markdown",
   "metadata": {},
   "source": [
    "# Q. You are given a string and your task is remove all Upper case letters. \n",
    "\n",
    "input: 'This is mE 123'\n",
    "\n",
    "output: 'his is m 123'"
   ]
  },
  {
   "cell_type": "markdown",
   "metadata": {},
   "source": [
    "# Q. Find the maximum value from the given list \n",
    "\n",
    "\"Don't use max() function \"\n",
    "\n",
    "input: [12, 3, 20, 45, 67]\n",
    "\n",
    "output: 67\n"
   ]
  },
  {
   "cell_type": "markdown",
   "metadata": {},
   "source": [
    "# Q. Find the element wise sum of two 2-d list\n",
    "\n",
    "input: [[1,2],[3,4]], [[1,1],[1,1]]\n",
    "\n",
    "output: [[2,3],[4,5]]"
   ]
  },
  {
   "cell_type": "markdown",
   "metadata": {},
   "source": [
    "# Q.  Write a Python program to insert a given string at the beginning of all items in a list.\n",
    "\n",
    "Sample list : [1,2,3,4], string : emp\n",
    "\n",
    "Expected output : ['emp1', 'emp2', 'emp3', 'emp4']"
   ]
  },
  {
   "cell_type": "markdown",
   "metadata": {},
   "source": [
    "# Q. Sort the list of tuple based on second item\n",
    "\n",
    "input: [('A',10),('B', 2), ('C', 7)]\n",
    "\n",
    "output:  [('B', 2),('C', 7), ('A',10)]"
   ]
  },
  {
   "cell_type": "markdown",
   "metadata": {},
   "source": [
    "# Q. Remove the items from the given dictionary having highest value.\n",
    "\n",
    "input: {'A':10, 'B':3, 'C':12, 'D':2}\n",
    "\n",
    "output: {'A':10, 'B':3,'D':2}"
   ]
  },
  {
   "cell_type": "code",
   "execution_count": 15,
   "metadata": {},
   "outputs": [
    {
     "name": "stdout",
     "output_type": "stream",
     "text": [
      "{'A': 10, 'B': 3, 'D': 2}\n"
     ]
    }
   ],
   "source": [
    "a={'A':10, 'B':3, 'C':12, 'D':2}\n",
    "x = max(a, key=lambda k: a[k])\n",
    "del a[x]\n",
    "print(a)"
   ]
  },
  {
   "cell_type": "code",
   "execution_count": 8,
   "metadata": {},
   "outputs": [
    {
     "name": "stdout",
     "output_type": "stream",
     "text": [
      "{'A': 10, 'B': 3, 'D': 2}\n"
     ]
    }
   ],
   "source": [
    "a={'A':10, 'B':3, 'C':12, 'D':2}\n",
    "del a[max(a, key=a.get)]\n",
    "print(a)"
   ]
  },
  {
   "cell_type": "code",
   "execution_count": 13,
   "metadata": {},
   "outputs": [
    {
     "name": "stdout",
     "output_type": "stream",
     "text": [
      "12\n"
     ]
    }
   ],
   "source": [
    "a={'A':10, 'B':3, 'C':12, 'D':2}\n",
    "x = max(a.keys(), key=(lambda k: a[k]))\n",
    "print(a[x])"
   ]
  },
  {
   "cell_type": "code",
   "execution_count": 14,
   "metadata": {},
   "outputs": [
    {
     "data": {
      "text/plain": [
       "'C'"
      ]
     },
     "execution_count": 14,
     "metadata": {},
     "output_type": "execute_result"
    }
   ],
   "source": [
    "a={'A':10, 'B':3, 'C':12, 'D':2}\n",
    "max(a, key = lambda x: a.get(x) )"
   ]
  },
  {
   "cell_type": "code",
   "execution_count": 16,
   "metadata": {},
   "outputs": [
    {
     "name": "stdout",
     "output_type": "stream",
     "text": [
      "{'A': 10, 'B': 3, 'D': 2}\n"
     ]
    }
   ],
   "source": [
    "input={'A':10, 'B':3, 'C':12, 'D':2}\n",
    "n=max(input.values())\n",
    "output={}\n",
    "for i,j in input.items():\n",
    "    if n!=j:\n",
    "        output[i]=j\n",
    "print(output)"
   ]
  },
  {
   "cell_type": "code",
   "execution_count": 17,
   "metadata": {},
   "outputs": [
    {
     "ename": "TypeError",
     "evalue": "'<' not supported between instances of 'int' and 'str'",
     "output_type": "error",
     "traceback": [
      "\u001b[1;31m---------------------------------------------------------------------------\u001b[0m",
      "\u001b[1;31mTypeError\u001b[0m                                 Traceback (most recent call last)",
      "\u001b[1;32m<ipython-input-17-0ca7c7221977>\u001b[0m in \u001b[0;36m<module>\u001b[1;34m()\u001b[0m\n\u001b[0;32m      1\u001b[0m \u001b[0mx\u001b[0m\u001b[1;33m=\u001b[0m \u001b[1;33m[\u001b[0m\u001b[1;33m(\u001b[0m\u001b[1;34m'A'\u001b[0m\u001b[1;33m,\u001b[0m\u001b[1;36m10\u001b[0m\u001b[1;33m)\u001b[0m\u001b[1;33m,\u001b[0m\u001b[1;33m(\u001b[0m\u001b[1;34m'B'\u001b[0m\u001b[1;33m,\u001b[0m \u001b[1;36m2\u001b[0m\u001b[1;33m)\u001b[0m\u001b[1;33m,\u001b[0m \u001b[1;33m(\u001b[0m\u001b[1;34m'C'\u001b[0m\u001b[1;33m,\u001b[0m \u001b[1;36m7\u001b[0m\u001b[1;33m)\u001b[0m\u001b[1;33m]\u001b[0m\u001b[1;33m\u001b[0m\u001b[0m\n\u001b[1;32m----> 2\u001b[1;33m \u001b[0msorted\u001b[0m\u001b[1;33m(\u001b[0m\u001b[0mx\u001b[0m\u001b[1;33m[\u001b[0m\u001b[1;36m1\u001b[0m\u001b[1;33m]\u001b[0m\u001b[1;33m)\u001b[0m\u001b[1;33m\u001b[0m\u001b[0m\n\u001b[0m",
      "\u001b[1;31mTypeError\u001b[0m: '<' not supported between instances of 'int' and 'str'"
     ]
    }
   ],
   "source": [
    "x= [('A',10),('B', 2), ('C', 7)]\n",
    "sorted(x)\n"
   ]
  },
  {
   "cell_type": "code",
   "execution_count": 21,
   "metadata": {},
   "outputs": [
    {
     "data": {
      "text/plain": [
       "[('C', 7), ('B', 2), ('A', 10)]"
      ]
     },
     "execution_count": 21,
     "metadata": {},
     "output_type": "execute_result"
    }
   ],
   "source": [
    "#x= [('A',10),('B', 2), ('C', 7)]\n",
    "#sorted([('A',10),('B', 2), ('C', 7)],key=lambda x: x[0], reverse=True)"
   ]
  },
  {
   "cell_type": "code",
   "execution_count": 39,
   "metadata": {},
   "outputs": [
    {
     "name": "stdout",
     "output_type": "stream",
     "text": [
      "[('B', 2)]\n",
      "[('B', 2), ('C', 7)]\n",
      "[('B', 2), ('C', 7), ('A', 10)]\n"
     ]
    }
   ],
   "source": [
    "x= [('A',10),('B', 2), ('C', 7)]\n",
    "b=[]\n",
    "res=[]\n",
    "res=[(t[1], t[0]) for t in x]\n",
    "res.sort()\n",
    "for i in res:\n",
    "    b.append(i[::-1])\n",
    "    print(b)\n",
    "\n",
    "#d=[(t[1], t[0]) for t in res]"
   ]
  },
  {
   "cell_type": "code",
   "execution_count": 40,
   "metadata": {},
   "outputs": [
    {
     "name": "stdout",
     "output_type": "stream",
     "text": [
      "[('B', 2), ('C', 7), ('A', 10)]\n"
     ]
    }
   ],
   "source": [
    "input=[('A',10),('B', 2), ('C', 7)]\n",
    "a=[]\n",
    "b=[]\n",
    "for i in input:\n",
    "    a.append(i[::-1])\n",
    "a.sort()\n",
    "for i in a:\n",
    "    b.append(i[::-1])\n",
    "print(b)"
   ]
  },
  {
   "cell_type": "code",
   "execution_count": null,
   "metadata": {},
   "outputs": [],
   "source": []
  }
 ],
 "metadata": {
  "kernelspec": {
   "display_name": "Python 3",
   "language": "python",
   "name": "python3"
  },
  "language_info": {
   "codemirror_mode": {
    "name": "ipython",
    "version": 3
   },
   "file_extension": ".py",
   "mimetype": "text/x-python",
   "name": "python",
   "nbconvert_exporter": "python",
   "pygments_lexer": "ipython3",
   "version": "3.6.5"
  }
 },
 "nbformat": 4,
 "nbformat_minor": 2
}
